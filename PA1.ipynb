{
 "cells": [
  {
   "cell_type": "markdown",
   "id": "ec8e42b8",
   "metadata": {},
   "source": [
    "# Ty Johnson CS150-01 Version 1 Spring 2023"
   ]
  },
  {
   "cell_type": "markdown",
   "id": "325f09e7",
   "metadata": {},
   "source": [
    "## Getting started with markdown "
   ]
  },
  {
   "cell_type": "markdown",
   "id": "3aa69b6a",
   "metadata": {},
   "source": [
    "> This is how to use blockquotes"
   ]
  },
  {
   "cell_type": "markdown",
   "id": "cbd0ced9",
   "metadata": {},
   "source": [
    "Modules in Course\n",
    "* Variables and Simple Data Types\n",
    "* Lists and Tuples\n",
    "* if Statements\n",
    "* Dictionaries\n",
    "* While Loops\n",
    "* Functions\n",
    "* Classes\n",
    "* Numpy"
   ]
  },
  {
   "cell_type": "markdown",
   "id": "fac861f1",
   "metadata": {},
   "source": [
    "**This is using bold words**"
   ]
  },
  {
   "cell_type": "markdown",
   "id": "144c1dbf",
   "metadata": {},
   "source": [
    "*This is using italics.*"
   ]
  },
  {
   "cell_type": "markdown",
   "id": "b1301541",
   "metadata": {},
   "source": [
    "`This course is about how to use Python.` It is in introductory course. "
   ]
  },
  {
   "attachments": {},
   "cell_type": "markdown",
   "id": "0e583c12",
   "metadata": {},
   "source": [
    "<a href=\"https://github.com/typjohnson\"> My Github Account </a>"
   ]
  },
  {
   "cell_type": "markdown",
   "id": "834e47da",
   "metadata": {},
   "source": [
    "Assignments in Course\n",
    "1. Assignment 1\n",
    "2. Assignment 2\n",
    "3. Assignment 3\n",
    "4. Assignment 4\n",
    "5. Assignment 5\n",
    "6. Assignment 6\n",
    "7. Assignment 7"
   ]
  },
  {
   "cell_type": "markdown",
   "id": "29ae8232",
   "metadata": {},
   "source": [
    "![Dog Picture](https://www.newshub.co.nz/home/lifestyle/2019/11/dog-years-are-a-myth-2-year-old-dogs-already-middle-aged-scientists/_jcr_content/par/video/image.dynimg.1280.q75.jpg/v1574572358818/GETTY-labrador-puppy-1120.jpg)"
   ]
  },
  {
   "cell_type": "code",
   "execution_count": null,
   "id": "e7a9f789",
   "metadata": {},
   "outputs": [],
   "source": []
  }
 ],
 "metadata": {
  "kernelspec": {
   "display_name": "Python 3 (ipykernel)",
   "language": "python",
   "name": "python3"
  },
  "language_info": {
   "codemirror_mode": {
    "name": "ipython",
    "version": 3
   },
   "file_extension": ".py",
   "mimetype": "text/x-python",
   "name": "python",
   "nbconvert_exporter": "python",
   "pygments_lexer": "ipython3",
   "version": "3.9.13"
  }
 },
 "nbformat": 4,
 "nbformat_minor": 5
}
